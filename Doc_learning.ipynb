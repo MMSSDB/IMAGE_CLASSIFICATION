{
 "cells": [
  {
   "cell_type": "code",
   "execution_count": 26,
   "id": "a596aba9",
   "metadata": {},
   "outputs": [],
   "source": [
    "from tensorflow.keras.preprocessing.image import ImageDataGenerator\n",
    "from keras.preprocessing import image\n",
    "from keras.models import load_model\n",
    "from tensorflow.keras.optimizers import RMSprop\n",
    "import tensorflow as tf\n",
    "from matplotlib import pyplot as plt\n",
    "import cv2\n",
    "import os\n",
    "import numpy as np\n",
    "import tensorflow as tf"
   ]
  },
  {
   "cell_type": "code",
   "execution_count": 2,
   "id": "5cfedf07",
   "metadata": {},
   "outputs": [],
   "source": [
    "train = ImageDataGenerator(rescale=1/255)\n",
    "validation = ImageDataGenerator(rescale=1/255)"
   ]
  },
  {
   "cell_type": "code",
   "execution_count": 3,
   "id": "23c2b772",
   "metadata": {},
   "outputs": [
    {
     "name": "stdout",
     "output_type": "stream",
     "text": [
      "Found 200 images belonging to 3 classes.\n",
      "Found 140 images belonging to 3 classes.\n"
     ]
    }
   ],
   "source": [
    "train_dataset = train.flow_from_directory(r\"S:\\Documents\\train\",\n",
    "                                      target_size= (100,100),\n",
    "                                      batch_size= 10,\n",
    "                                      class_mode= \"categorical\")\n",
    "\n",
    "validation_dataset = train.flow_from_directory(r\"S:\\Documents\\validation\",\n",
    "                                      target_size= (100,100),\n",
    "                                      batch_size= 10,\n",
    "                                      class_mode= \"categorical\")"
   ]
  },
  {
   "cell_type": "code",
   "execution_count": 4,
   "id": "5d700e9c",
   "metadata": {},
   "outputs": [
    {
     "data": {
      "text/plain": [
       "{'CERTIFICATES': 0, 'IDENTIFICATION CARDS': 1, 'TITLE DEEDS': 2}"
      ]
     },
     "execution_count": 4,
     "metadata": {},
     "output_type": "execute_result"
    }
   ],
   "source": [
    "train_dataset.class_indices"
   ]
  },
  {
   "cell_type": "code",
   "execution_count": 28,
   "id": "139319a5",
   "metadata": {},
   "outputs": [],
   "source": [
    "model = tf.keras.models.Sequential([ tf.keras.layers.Conv2D(16,(3,3),activation = 'relu',input_shape =(100,100,3)),\n",
    "                                    tf.keras.layers.MaxPool2D(2,2),\n",
    "                                    #\n",
    "                                    tf.keras.layers.Conv2D(32,(3,3),activation = 'relu'),\n",
    "                                    tf.keras.layers.MaxPool2D(2,2),\n",
    "                                    #\n",
    "                                    tf.keras.layers.Conv2D(64,(3,3),activation = 'relu'),\n",
    "                                    tf.keras.layers.MaxPool2D(2,2),\n",
    "                                    ##\n",
    "                                    tf.keras.layers.Flatten(),\n",
    "                                    ##\n",
    "                                    tf.keras.layers.Dense(128,activation= 'relu'),\n",
    "                                    ##\n",
    "                                    tf.keras.layers.Dense(3,activation= 'softmax')\n",
    "                                   ])"
   ]
  },
  {
   "cell_type": "code",
   "execution_count": null,
   "id": "6a91dae5",
   "metadata": {},
   "outputs": [],
   "source": [
    "model.compile(loss= 'categorical_crossentropy',\n",
    "             optimizer = RMSprop(lr=0.001),\n",
    "             metrics =['accuracy'])"
   ]
  },
  {
   "cell_type": "code",
   "execution_count": 7,
   "id": "515b231b",
   "metadata": {
    "scrolled": true
   },
   "outputs": [
    {
     "name": "stdout",
     "output_type": "stream",
     "text": [
      "WARNING:tensorflow:From C:\\Users\\TOSHIBA\\anaconda3\\envs\\doc_class\\lib\\site-packages\\tensorflow\\python\\ops\\math_ops.py:3066: to_int32 (from tensorflow.python.ops.math_ops) is deprecated and will be removed in a future version.\n",
      "Instructions for updating:\n",
      "Use tf.cast instead.\n",
      "Epoch 1/10\n",
      "14/14 [==============================] - 220s 16s/step - loss: 1.2055 - acc: 0.3643\n",
      "20/20 [==============================] - 445s 22s/step - loss: 1.0893 - acc: 0.5300 - val_loss: 1.2055 - val_acc: 0.3643\n",
      "Epoch 2/10\n",
      "14/14 [==============================] - 205s 15s/step - loss: 0.7883 - acc: 0.6929\n",
      "20/20 [==============================] - 325s 16s/step - loss: 0.9111 - acc: 0.6500 - val_loss: 0.7883 - val_acc: 0.6929\n",
      "Epoch 3/10\n",
      "14/14 [==============================] - 193s 14s/step - loss: 0.5089 - acc: 0.8357\n",
      "20/20 [==============================] - 298s 15s/step - loss: 0.6425 - acc: 0.7500 - val_loss: 0.5089 - val_acc: 0.8357\n",
      "Epoch 4/10\n",
      "14/14 [==============================] - 211s 15s/step - loss: 0.4745 - acc: 0.8500\n",
      "20/20 [==============================] - 312s 16s/step - loss: 0.5745 - acc: 0.7700 - val_loss: 0.4745 - val_acc: 0.8500\n",
      "Epoch 5/10\n",
      "14/14 [==============================] - 214s 15s/step - loss: 0.3988 - acc: 0.8786\n",
      "20/20 [==============================] - 323s 16s/step - loss: 0.4097 - acc: 0.8450 - val_loss: 0.3988 - val_acc: 0.8786\n",
      "Epoch 6/10\n",
      "14/14 [==============================] - 207s 15s/step - loss: 0.5645 - acc: 0.8143\n",
      "20/20 [==============================] - 313s 16s/step - loss: 0.4302 - acc: 0.8350 - val_loss: 0.5645 - val_acc: 0.8143\n",
      "Epoch 7/10\n",
      "14/14 [==============================] - 133s 10s/step - loss: 0.4455 - acc: 0.8786\n",
      "20/20 [==============================] - 223s 11s/step - loss: 0.2577 - acc: 0.9150 - val_loss: 0.4455 - val_acc: 0.8786\n",
      "Epoch 8/10\n",
      "14/14 [==============================] - 132s 9s/step - loss: 0.5718 - acc: 0.8571\n",
      "20/20 [==============================] - 221s 11s/step - loss: 0.1978 - acc: 0.9350 - val_loss: 0.5718 - val_acc: 0.8571\n",
      "Epoch 9/10\n",
      "14/14 [==============================] - 130s 9s/step - loss: 0.2347 - acc: 0.9429\n",
      "20/20 [==============================] - 208s 10s/step - loss: 0.2816 - acc: 0.8900 - val_loss: 0.2347 - val_acc: 0.9429\n",
      "Epoch 10/10\n",
      "14/14 [==============================] - 138s 10s/step - loss: 0.2475 - acc: 0.9643\n",
      "20/20 [==============================] - 215s 11s/step - loss: 0.1263 - acc: 0.9750 - val_loss: 0.2475 - val_acc: 0.9643\n"
     ]
    }
   ],
   "source": [
    "model_fit = model.fit(train_dataset,\n",
    "                     step_per_epoch = 20,\n",
    "                     epochs = 10,\n",
    "                     validation_data = validation_dataset)\n"
   ]
  },
  {
   "cell_type": "code",
   "execution_count": 27,
   "id": "adeb6374",
   "metadata": {},
   "outputs": [],
   "source": [
    "model.save('doclassification.h5')"
   ]
  },
  {
   "cell_type": "code",
   "execution_count": null,
   "id": "f4d33021",
   "metadata": {},
   "outputs": [],
   "source": []
  }
 ],
 "metadata": {
  "kernelspec": {
   "display_name": "Python 3",
   "language": "python",
   "name": "python3"
  },
  "language_info": {
   "codemirror_mode": {
    "name": "ipython",
    "version": 3
   },
   "file_extension": ".py",
   "mimetype": "text/x-python",
   "name": "python",
   "nbconvert_exporter": "python",
   "pygments_lexer": "ipython3",
   "version": "3.6.13"
  }
 },
 "nbformat": 4,
 "nbformat_minor": 5
}

{
 "cells": [
  {
   "cell_type": "code",
   "execution_count": 95,
   "id": "06c0b6a6",
   "metadata": {},
   "outputs": [],
   "source": [
    "from tensorflow.keras.models import load_model\n",
    "from keras.preprocessing import image\n",
    "import cv2\n",
    "import numpy as np"
   ]
  },
  {
   "cell_type": "code",
   "execution_count": 96,
   "id": "4a1a918b",
   "metadata": {},
   "outputs": [],
   "source": [
    "model = load_model('doclassification.h5') # load the model\n"
   ]
  },
  {
   "cell_type": "code",
   "execution_count": 97,
   "id": "ccb739a6",
   "metadata": {},
   "outputs": [],
   "source": [
    "img = cv2.imread(r\"S:\\Documents\\test\\img1.jpg\")   #image path\n",
    "img = cv2.resize(img, (100,100))  #resizing the image into \n",
    "img = np.reshape(img,[1,100,100,3])"
   ]
  },
  {
   "cell_type": "code",
   "execution_count": 98,
   "id": "b92d1787",
   "metadata": {},
   "outputs": [
    {
     "name": "stdout",
     "output_type": "stream",
     "text": [
      "0: CERTIFICATES\n"
     ]
    }
   ],
   "source": [
    "classes = model.predict_classes(img)\n",
    "\n",
    "if classes == 0:\n",
    "    print(\"0: CERTIFICATES\")\n",
    "elif classes == 1:\n",
    "    print(\"1: IDENTIFICATION CARDS\")\n",
    "else:\n",
    "    print(\"2: TITLE DEEDS\")"
   ]
  },
  {
   "cell_type": "code",
   "execution_count": null,
   "id": "bd038980",
   "metadata": {},
   "outputs": [],
   "source": []
  }
 ],
 "metadata": {
  "kernelspec": {
   "display_name": "Python 3 (ipykernel)",
   "language": "python",
   "name": "python3"
  },
  "language_info": {
   "codemirror_mode": {
    "name": "ipython",
    "version": 3
   },
   "file_extension": ".py",
   "mimetype": "text/x-python",
   "name": "python",
   "nbconvert_exporter": "python",
   "pygments_lexer": "ipython3",
   "version": "3.9.7"
  }
 },
 "nbformat": 4,
 "nbformat_minor": 5
}
